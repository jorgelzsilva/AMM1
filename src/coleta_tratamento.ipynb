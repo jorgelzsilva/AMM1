{
 "cells": [
  {
   "cell_type": "code",
   "execution_count": 15,
   "metadata": {},
   "outputs": [
    {
     "name": "stdout",
     "output_type": "stream",
     "text": [
      "Hello world\n"
     ]
    }
   ],
   "source": [
    "print('Hello world')"
   ]
  },
  {
   "cell_type": "markdown",
   "metadata": {},
   "source": [
    "# import das bibliotecas"
   ]
  },
  {
   "cell_type": "code",
   "execution_count": 16,
   "metadata": {},
   "outputs": [],
   "source": [
    "import pandas as pd"
   ]
  },
  {
   "cell_type": "markdown",
   "metadata": {},
   "source": [
    "# Datasets"
   ]
  },
  {
   "cell_type": "code",
   "execution_count": 17,
   "metadata": {},
   "outputs": [],
   "source": [
    "df_dados_clinicos = pd.read_csv('../datasets/dados_clinicos.csv', sep='|', encoding='latin1')\n",
    "df_dados_pacientes = pd.read_csv('../datasets/dados_pacientes.csv', sep=';', encoding='utf8')\n",
    "df_estados_regiao = pd.read_csv('../datasets/estado_regiao.csv', sep=';', encoding='latin1')"
   ]
  },
  {
   "cell_type": "code",
   "execution_count": 18,
   "metadata": {},
   "outputs": [
    {
     "data": {
      "text/html": [
       "<div>\n",
       "<style scoped>\n",
       "    .dataframe tbody tr th:only-of-type {\n",
       "        vertical-align: middle;\n",
       "    }\n",
       "\n",
       "    .dataframe tbody tr th {\n",
       "        vertical-align: top;\n",
       "    }\n",
       "\n",
       "    .dataframe thead th {\n",
       "        text-align: right;\n",
       "    }\n",
       "</style>\n",
       "<table border=\"1\" class=\"dataframe\">\n",
       "  <thead>\n",
       "    <tr style=\"text-align: right;\">\n",
       "      <th></th>\n",
       "      <th>id_cliente</th>\n",
       "      <th>peso</th>\n",
       "      <th>colesterol</th>\n",
       "      <th>genero</th>\n",
       "    </tr>\n",
       "  </thead>\n",
       "  <tbody>\n",
       "    <tr>\n",
       "      <th>10286</th>\n",
       "      <td>9986</td>\n",
       "      <td>98.2</td>\n",
       "      <td>139.9</td>\n",
       "      <td>Feminino</td>\n",
       "    </tr>\n",
       "    <tr>\n",
       "      <th>10287</th>\n",
       "      <td>9987</td>\n",
       "      <td>1.0</td>\n",
       "      <td>159.4</td>\n",
       "      <td>Masculino</td>\n",
       "    </tr>\n",
       "    <tr>\n",
       "      <th>10288</th>\n",
       "      <td>9988</td>\n",
       "      <td>173.7</td>\n",
       "      <td>228.0</td>\n",
       "      <td>Feminino</td>\n",
       "    </tr>\n",
       "    <tr>\n",
       "      <th>10289</th>\n",
       "      <td>9989</td>\n",
       "      <td>120.6</td>\n",
       "      <td>174.1</td>\n",
       "      <td>Masculino</td>\n",
       "    </tr>\n",
       "    <tr>\n",
       "      <th>10290</th>\n",
       "      <td>9990</td>\n",
       "      <td>NaN</td>\n",
       "      <td>150.4</td>\n",
       "      <td>Masculino</td>\n",
       "    </tr>\n",
       "    <tr>\n",
       "      <th>10291</th>\n",
       "      <td>9991</td>\n",
       "      <td>181.7</td>\n",
       "      <td>216.3</td>\n",
       "      <td>Masculino</td>\n",
       "    </tr>\n",
       "    <tr>\n",
       "      <th>10292</th>\n",
       "      <td>9992</td>\n",
       "      <td>59.6</td>\n",
       "      <td>109.3</td>\n",
       "      <td>Masculino</td>\n",
       "    </tr>\n",
       "    <tr>\n",
       "      <th>10293</th>\n",
       "      <td>9993</td>\n",
       "      <td>126.2</td>\n",
       "      <td>173.7</td>\n",
       "      <td>Feminino</td>\n",
       "    </tr>\n",
       "    <tr>\n",
       "      <th>10294</th>\n",
       "      <td>9994</td>\n",
       "      <td>82.2</td>\n",
       "      <td>136.0</td>\n",
       "      <td>Feminino</td>\n",
       "    </tr>\n",
       "    <tr>\n",
       "      <th>10295</th>\n",
       "      <td>9995</td>\n",
       "      <td>90.5</td>\n",
       "      <td>167.1</td>\n",
       "      <td>Feminino</td>\n",
       "    </tr>\n",
       "    <tr>\n",
       "      <th>10296</th>\n",
       "      <td>9996</td>\n",
       "      <td>54.4</td>\n",
       "      <td>132.0</td>\n",
       "      <td>Feminino</td>\n",
       "    </tr>\n",
       "    <tr>\n",
       "      <th>10297</th>\n",
       "      <td>9997</td>\n",
       "      <td>53.6</td>\n",
       "      <td>113.4</td>\n",
       "      <td>Feminino</td>\n",
       "    </tr>\n",
       "    <tr>\n",
       "      <th>10298</th>\n",
       "      <td>9998</td>\n",
       "      <td>104.2</td>\n",
       "      <td>166.0</td>\n",
       "      <td>Feminino</td>\n",
       "    </tr>\n",
       "    <tr>\n",
       "      <th>10299</th>\n",
       "      <td>9999</td>\n",
       "      <td>73.7</td>\n",
       "      <td>151.6</td>\n",
       "      <td>Feminino</td>\n",
       "    </tr>\n",
       "    <tr>\n",
       "      <th>10300</th>\n",
       "      <td>10000</td>\n",
       "      <td>189.0</td>\n",
       "      <td>238.6</td>\n",
       "      <td>Masculino</td>\n",
       "    </tr>\n",
       "  </tbody>\n",
       "</table>\n",
       "</div>"
      ],
      "text/plain": [
       "       id_cliente   peso  colesterol     genero\n",
       "10286        9986   98.2       139.9   Feminino\n",
       "10287        9987    1.0       159.4  Masculino\n",
       "10288        9988  173.7       228.0   Feminino\n",
       "10289        9989  120.6       174.1  Masculino\n",
       "10290        9990    NaN       150.4  Masculino\n",
       "10291        9991  181.7       216.3  Masculino\n",
       "10292        9992   59.6       109.3  Masculino\n",
       "10293        9993  126.2       173.7   Feminino\n",
       "10294        9994   82.2       136.0   Feminino\n",
       "10295        9995   90.5       167.1   Feminino\n",
       "10296        9996   54.4       132.0   Feminino\n",
       "10297        9997   53.6       113.4   Feminino\n",
       "10298        9998  104.2       166.0   Feminino\n",
       "10299        9999   73.7       151.6   Feminino\n",
       "10300       10000  189.0       238.6  Masculino"
      ]
     },
     "execution_count": 18,
     "metadata": {},
     "output_type": "execute_result"
    }
   ],
   "source": [
    "df_dados_clinicos.tail(15)"
   ]
  },
  {
   "cell_type": "code",
   "execution_count": 19,
   "metadata": {},
   "outputs": [
    {
     "data": {
      "text/html": [
       "<div>\n",
       "<style scoped>\n",
       "    .dataframe tbody tr th:only-of-type {\n",
       "        vertical-align: middle;\n",
       "    }\n",
       "\n",
       "    .dataframe tbody tr th {\n",
       "        vertical-align: top;\n",
       "    }\n",
       "\n",
       "    .dataframe thead th {\n",
       "        text-align: right;\n",
       "    }\n",
       "</style>\n",
       "<table border=\"1\" class=\"dataframe\">\n",
       "  <thead>\n",
       "    <tr style=\"text-align: right;\">\n",
       "      <th></th>\n",
       "      <th>id_cliente</th>\n",
       "      <th>idade</th>\n",
       "      <th>classe_trabalho</th>\n",
       "      <th>escolaridade</th>\n",
       "      <th>id_estado</th>\n",
       "      <th>estado_civil</th>\n",
       "      <th>raca</th>\n",
       "      <th>qtde_filhos</th>\n",
       "      <th>salario</th>\n",
       "    </tr>\n",
       "  </thead>\n",
       "  <tbody>\n",
       "    <tr>\n",
       "      <th>978</th>\n",
       "      <td>894</td>\n",
       "      <td>51</td>\n",
       "      <td>Autônomo</td>\n",
       "      <td>Ensino Fundamental Completo</td>\n",
       "      <td>16</td>\n",
       "      <td>Casado</td>\n",
       "      <td>Branco</td>\n",
       "      <td>4.0</td>\n",
       "      <td>1100</td>\n",
       "    </tr>\n",
       "  </tbody>\n",
       "</table>\n",
       "</div>"
      ],
      "text/plain": [
       "     id_cliente  idade classe_trabalho                 escolaridade  \\\n",
       "978         894     51        Autônomo  Ensino Fundamental Completo   \n",
       "\n",
       "     id_estado estado_civil    raca  qtde_filhos  salario  \n",
       "978         16       Casado  Branco          4.0     1100  "
      ]
     },
     "execution_count": 19,
     "metadata": {},
     "output_type": "execute_result"
    }
   ],
   "source": [
    "df_dados_pacientes.sample()"
   ]
  },
  {
   "cell_type": "code",
   "execution_count": 20,
   "metadata": {},
   "outputs": [
    {
     "data": {
      "text/html": [
       "<div>\n",
       "<style scoped>\n",
       "    .dataframe tbody tr th:only-of-type {\n",
       "        vertical-align: middle;\n",
       "    }\n",
       "\n",
       "    .dataframe tbody tr th {\n",
       "        vertical-align: top;\n",
       "    }\n",
       "\n",
       "    .dataframe thead th {\n",
       "        text-align: right;\n",
       "    }\n",
       "</style>\n",
       "<table border=\"1\" class=\"dataframe\">\n",
       "  <thead>\n",
       "    <tr style=\"text-align: right;\">\n",
       "      <th></th>\n",
       "      <th>id_estado</th>\n",
       "      <th>sigla</th>\n",
       "      <th>estado</th>\n",
       "      <th>regiao</th>\n",
       "      <th>pais</th>\n",
       "    </tr>\n",
       "  </thead>\n",
       "  <tbody>\n",
       "    <tr>\n",
       "      <th>18</th>\n",
       "      <td>10</td>\n",
       "      <td>MA</td>\n",
       "      <td>Maranhão</td>\n",
       "      <td>Nordeste</td>\n",
       "      <td>Brasil</td>\n",
       "    </tr>\n",
       "  </tbody>\n",
       "</table>\n",
       "</div>"
      ],
      "text/plain": [
       "    id_estado sigla    estado    regiao    pais\n",
       "18         10    MA  Maranhão  Nordeste  Brasil"
      ]
     },
     "execution_count": 20,
     "metadata": {},
     "output_type": "execute_result"
    }
   ],
   "source": [
    "df_estados_regiao.sample()"
   ]
  },
  {
   "cell_type": "code",
   "execution_count": 21,
   "metadata": {},
   "outputs": [],
   "source": [
    "def infomais(dataframe):\n",
    "  ausentes = pd.DataFrame(dataframe.isna().sum()).reset_index()\n",
    "  ausentes = ausentes[ausentes[0] > 0]\n",
    "  ausentes = ausentes.rename(columns={'index': 'coluna', 0: 'total'})\n",
    "  duplicados = dataframe[dataframe.duplicated()]\n",
    "  print(\"\\n==============\")\n",
    "  print(\"Describe\")\n",
    "  print(dataframe.describe())\n",
    "  print(\"\\n==============\")\n",
    "  print(\"info\")\n",
    "  print(dataframe.info())\n",
    "  print(\"\\n==============\")\n",
    "  print(\"Dados ausentes\")\n",
    "  if len(ausentes) > 0:\n",
    "    print(ausentes)\n",
    "  else:\n",
    "    print('sem dados ausentes')\n",
    "  if len(duplicados) > 0:\n",
    "    print(\"\\n==============\")\n",
    "    print(f'{len(duplicados)} duplicatas')\n",
    "    print(duplicados.index)"
   ]
  },
  {
   "cell_type": "markdown",
   "metadata": {},
   "source": [
    "# Análise prévia"
   ]
  },
  {
   "cell_type": "markdown",
   "metadata": {},
   "source": [
    "Intruções para correção de dados ausentes:\n",
    "Moda para variáveis categóricas e Mediana para variáveis numéricas."
   ]
  },
  {
   "cell_type": "code",
   "execution_count": 22,
   "metadata": {},
   "outputs": [
    {
     "name": "stdout",
     "output_type": "stream",
     "text": [
      "\n",
      "==============\n",
      "Describe\n",
      "       id_estado\n",
      "count   36.00000\n",
      "mean    14.00000\n",
      "std      6.96522\n",
      "min      1.00000\n",
      "25%      9.75000\n",
      "50%     14.00000\n",
      "75%     18.25000\n",
      "max     27.00000\n",
      "\n",
      "==============\n",
      "info\n",
      "<class 'pandas.core.frame.DataFrame'>\n",
      "RangeIndex: 36 entries, 0 to 35\n",
      "Data columns (total 5 columns):\n",
      " #   Column     Non-Null Count  Dtype \n",
      "---  ------     --------------  ----- \n",
      " 0   id_estado  36 non-null     int64 \n",
      " 1   sigla      36 non-null     object\n",
      " 2   estado     36 non-null     object\n",
      " 3   regiao     36 non-null     object\n",
      " 4   pais       36 non-null     object\n",
      "dtypes: int64(1), object(4)\n",
      "memory usage: 1.5+ KB\n",
      "None\n",
      "\n",
      "==============\n",
      "Dados ausentes\n",
      "sem dados ausentes\n",
      "\n",
      "==============\n",
      "9 duplicatas\n",
      "Index([18, 19, 20, 21, 22, 23, 24, 25, 26], dtype='int64')\n"
     ]
    }
   ],
   "source": [
    "infomais(df_estados_regiao)"
   ]
  },
  {
   "cell_type": "markdown",
   "metadata": {},
   "source": [
    "# Tratamento"
   ]
  },
  {
   "cell_type": "code",
   "execution_count": 23,
   "metadata": {},
   "outputs": [],
   "source": [
    "df_dados_clinicos.drop_duplicates(keep='first', inplace=True)\n",
    "df_dados_clinicos.fillna({'genero': df_dados_clinicos['genero'].mode()[0]}, inplace=True)\n",
    "df_dados_clinicos.fillna({'peso': df_dados_clinicos['peso'].median()}, inplace=True)"
   ]
  },
  {
   "cell_type": "code",
   "execution_count": 24,
   "metadata": {},
   "outputs": [],
   "source": [
    "df_dados_pacientes.drop_duplicates(keep='first', inplace=True)\n",
    "df_dados_pacientes.fillna({'qtde_filhos': df_dados_pacientes['qtde_filhos'].median()}, inplace=True)\n",
    "df_dados_pacientes.fillna({'classe_trabalho': df_dados_pacientes['classe_trabalho'].mode()[0]}, inplace=True)\n",
    "df_dados_pacientes['qtde_filhos'] = df_dados_pacientes['qtde_filhos'].astype('int')"
   ]
  },
  {
   "cell_type": "code",
   "execution_count": 25,
   "metadata": {},
   "outputs": [],
   "source": [
    "df_estados_regiao.drop_duplicates(keep='first', inplace=True)"
   ]
  },
  {
   "cell_type": "code",
   "execution_count": 26,
   "metadata": {},
   "outputs": [
    {
     "data": {
      "text/plain": [
       "classe_trabalho\n",
       "Funcionário Setor Privado    5769\n",
       "Autônomo                      588\n",
       "Empresário                    496\n",
       "Servidor Público              299\n",
       "MEI                           275\n",
       "Aposentado                    267\n",
       "Funcionário Público           216\n",
       "Menor Aprendiz                 85\n",
       "Desempregado                    3\n",
       "Estagiário                      1\n",
       "Name: count, dtype: int64"
      ]
     },
     "execution_count": 26,
     "metadata": {},
     "output_type": "execute_result"
    }
   ],
   "source": [
    "df_dados_pacientes['classe_trabalho'].value_counts()"
   ]
  },
  {
   "cell_type": "code",
   "execution_count": 27,
   "metadata": {},
   "outputs": [
    {
     "data": {
      "text/html": [
       "<div>\n",
       "<style scoped>\n",
       "    .dataframe tbody tr th:only-of-type {\n",
       "        vertical-align: middle;\n",
       "    }\n",
       "\n",
       "    .dataframe tbody tr th {\n",
       "        vertical-align: top;\n",
       "    }\n",
       "\n",
       "    .dataframe thead th {\n",
       "        text-align: right;\n",
       "    }\n",
       "</style>\n",
       "<table border=\"1\" class=\"dataframe\">\n",
       "  <thead>\n",
       "    <tr style=\"text-align: right;\">\n",
       "      <th></th>\n",
       "      <th>id_cliente</th>\n",
       "      <th>peso</th>\n",
       "      <th>colesterol</th>\n",
       "      <th>genero</th>\n",
       "    </tr>\n",
       "  </thead>\n",
       "  <tbody>\n",
       "    <tr>\n",
       "      <th>10286</th>\n",
       "      <td>9986</td>\n",
       "      <td>98.2</td>\n",
       "      <td>139.9</td>\n",
       "      <td>Feminino</td>\n",
       "    </tr>\n",
       "    <tr>\n",
       "      <th>10287</th>\n",
       "      <td>9987</td>\n",
       "      <td>1.0</td>\n",
       "      <td>159.4</td>\n",
       "      <td>Masculino</td>\n",
       "    </tr>\n",
       "    <tr>\n",
       "      <th>10288</th>\n",
       "      <td>9988</td>\n",
       "      <td>173.7</td>\n",
       "      <td>228.0</td>\n",
       "      <td>Feminino</td>\n",
       "    </tr>\n",
       "    <tr>\n",
       "      <th>10289</th>\n",
       "      <td>9989</td>\n",
       "      <td>120.6</td>\n",
       "      <td>174.1</td>\n",
       "      <td>Masculino</td>\n",
       "    </tr>\n",
       "    <tr>\n",
       "      <th>10290</th>\n",
       "      <td>9990</td>\n",
       "      <td>124.6</td>\n",
       "      <td>150.4</td>\n",
       "      <td>Masculino</td>\n",
       "    </tr>\n",
       "    <tr>\n",
       "      <th>10291</th>\n",
       "      <td>9991</td>\n",
       "      <td>181.7</td>\n",
       "      <td>216.3</td>\n",
       "      <td>Masculino</td>\n",
       "    </tr>\n",
       "    <tr>\n",
       "      <th>10292</th>\n",
       "      <td>9992</td>\n",
       "      <td>59.6</td>\n",
       "      <td>109.3</td>\n",
       "      <td>Masculino</td>\n",
       "    </tr>\n",
       "    <tr>\n",
       "      <th>10293</th>\n",
       "      <td>9993</td>\n",
       "      <td>126.2</td>\n",
       "      <td>173.7</td>\n",
       "      <td>Feminino</td>\n",
       "    </tr>\n",
       "    <tr>\n",
       "      <th>10294</th>\n",
       "      <td>9994</td>\n",
       "      <td>82.2</td>\n",
       "      <td>136.0</td>\n",
       "      <td>Feminino</td>\n",
       "    </tr>\n",
       "    <tr>\n",
       "      <th>10295</th>\n",
       "      <td>9995</td>\n",
       "      <td>90.5</td>\n",
       "      <td>167.1</td>\n",
       "      <td>Feminino</td>\n",
       "    </tr>\n",
       "    <tr>\n",
       "      <th>10296</th>\n",
       "      <td>9996</td>\n",
       "      <td>54.4</td>\n",
       "      <td>132.0</td>\n",
       "      <td>Feminino</td>\n",
       "    </tr>\n",
       "    <tr>\n",
       "      <th>10297</th>\n",
       "      <td>9997</td>\n",
       "      <td>53.6</td>\n",
       "      <td>113.4</td>\n",
       "      <td>Feminino</td>\n",
       "    </tr>\n",
       "    <tr>\n",
       "      <th>10298</th>\n",
       "      <td>9998</td>\n",
       "      <td>104.2</td>\n",
       "      <td>166.0</td>\n",
       "      <td>Feminino</td>\n",
       "    </tr>\n",
       "    <tr>\n",
       "      <th>10299</th>\n",
       "      <td>9999</td>\n",
       "      <td>73.7</td>\n",
       "      <td>151.6</td>\n",
       "      <td>Feminino</td>\n",
       "    </tr>\n",
       "    <tr>\n",
       "      <th>10300</th>\n",
       "      <td>10000</td>\n",
       "      <td>189.0</td>\n",
       "      <td>238.6</td>\n",
       "      <td>Masculino</td>\n",
       "    </tr>\n",
       "  </tbody>\n",
       "</table>\n",
       "</div>"
      ],
      "text/plain": [
       "       id_cliente   peso  colesterol     genero\n",
       "10286        9986   98.2       139.9   Feminino\n",
       "10287        9987    1.0       159.4  Masculino\n",
       "10288        9988  173.7       228.0   Feminino\n",
       "10289        9989  120.6       174.1  Masculino\n",
       "10290        9990  124.6       150.4  Masculino\n",
       "10291        9991  181.7       216.3  Masculino\n",
       "10292        9992   59.6       109.3  Masculino\n",
       "10293        9993  126.2       173.7   Feminino\n",
       "10294        9994   82.2       136.0   Feminino\n",
       "10295        9995   90.5       167.1   Feminino\n",
       "10296        9996   54.4       132.0   Feminino\n",
       "10297        9997   53.6       113.4   Feminino\n",
       "10298        9998  104.2       166.0   Feminino\n",
       "10299        9999   73.7       151.6   Feminino\n",
       "10300       10000  189.0       238.6  Masculino"
      ]
     },
     "execution_count": 27,
     "metadata": {},
     "output_type": "execute_result"
    }
   ],
   "source": [
    "df_dados_clinicos.tail(15)"
   ]
  },
  {
   "cell_type": "markdown",
   "metadata": {},
   "source": [
    "# Exportação"
   ]
  },
  {
   "cell_type": "code",
   "execution_count": 28,
   "metadata": {},
   "outputs": [],
   "source": [
    "df_dados_clinicos.to_csv('../datasets/dados_clinicos_trat.csv', sep=';', encoding='utf-8', index=False)"
   ]
  },
  {
   "cell_type": "code",
   "execution_count": 29,
   "metadata": {},
   "outputs": [],
   "source": [
    "df_dados_pacientes.to_csv('../datasets/dados_pacientes_trat.csv', sep=';', encoding='utf-8', index=False)"
   ]
  },
  {
   "cell_type": "code",
   "execution_count": 30,
   "metadata": {},
   "outputs": [],
   "source": [
    "df_estados_regiao.to_csv('../datasets/estado_regiao_trat.csv', sep=';', encoding='utf-8', index=False)"
   ]
  }
 ],
 "metadata": {
  "kernelspec": {
   "display_name": "amm1",
   "language": "python",
   "name": "python3"
  },
  "language_info": {
   "codemirror_mode": {
    "name": "ipython",
    "version": 3
   },
   "file_extension": ".py",
   "mimetype": "text/x-python",
   "name": "python",
   "nbconvert_exporter": "python",
   "pygments_lexer": "ipython3",
   "version": "3.12.6"
  }
 },
 "nbformat": 4,
 "nbformat_minor": 2
}
